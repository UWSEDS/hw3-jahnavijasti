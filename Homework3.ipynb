{
 "cells": [
  {
   "cell_type": "code",
   "execution_count": 77,
   "metadata": {
    "collapsed": true
   },
   "outputs": [],
   "source": [
    "import pandas as pd\n",
    "import matplotlib.pyplot as plt\n",
    "%matplotlib inline\n",
    "import numpy as np\n",
    "import datetime\n",
    "import os\n",
    "import requests\n",
    "import zipfile "
   ]
  },
  {
   "cell_type": "code",
   "execution_count": 78,
   "metadata": {
    "collapsed": false
   },
   "outputs": [
    {
     "name": "stdout",
     "output_type": "stream",
     "text": [
      "File exists, skipping download\n"
     ]
    }
   ],
   "source": [
    "filename = 'open_data_year_one.zip'\n",
    "url = 'https://s3.amazonaws.com/pronto-data/open_data_year_one.zip'\n",
    "csv_filename = \"2015_trip_data.csv\"\n",
    "\n",
    "if os.path.exists(filename):\n",
    "  print(\"File exists, skipping download\")\n",
    "else: \n",
    "    req = requests.get(url)\n",
    "    assert req.status_code == 200 # if the download failed, this line will generate an error\n",
    "    with open(filename, 'wb') as f:\n",
    "      f.write(req.content)\n",
    "zf = zipfile.ZipFile(filename)\n",
    "df = pd.read_csv(zf.open(csv_filename))"
   ]
  },
  {
   "cell_type": "code",
   "execution_count": 84,
   "metadata": {
    "collapsed": false
   },
   "outputs": [],
   "source": [
    "def funcdate(row):\n",
    "    return row['starttime'].split()[0]\n",
    "def funcdayofweek(row):\n",
    "    month, day, year = (int(x) for x in row['Date'].split('/'))  \n",
    "    date_full = datetime.date(year, month, day)\n",
    "    return date_full.strftime(\"%A\")  \n",
    "\n",
    "\n",
    "\n",
    "df['Date'] = df.apply(funcdate, axis=1)\n",
    "df['DayOfWeek'] = df.apply(funcdayofweek, axis=1)\n",
    "\n"
   ]
  },
  {
   "cell_type": "code",
   "execution_count": 85,
   "metadata": {
    "collapsed": false
   },
   "outputs": [
    {
     "data": {
      "text/html": [
       "<div>\n",
       "<table border=\"1\" class=\"dataframe\">\n",
       "  <thead>\n",
       "    <tr style=\"text-align: right;\">\n",
       "      <th></th>\n",
       "      <th>trip_id</th>\n",
       "      <th>starttime</th>\n",
       "      <th>stoptime</th>\n",
       "      <th>bikeid</th>\n",
       "      <th>tripduration</th>\n",
       "      <th>from_station_name</th>\n",
       "      <th>to_station_name</th>\n",
       "      <th>from_station_id</th>\n",
       "      <th>to_station_id</th>\n",
       "      <th>usertype</th>\n",
       "      <th>gender</th>\n",
       "      <th>birthyear</th>\n",
       "      <th>Date</th>\n",
       "      <th>DayOfWeek</th>\n",
       "    </tr>\n",
       "  </thead>\n",
       "  <tbody>\n",
       "    <tr>\n",
       "      <th>0</th>\n",
       "      <td>431</td>\n",
       "      <td>10/13/2014 10:31</td>\n",
       "      <td>10/13/2014 10:48</td>\n",
       "      <td>SEA00298</td>\n",
       "      <td>985.935</td>\n",
       "      <td>2nd Ave &amp; Spring St</td>\n",
       "      <td>Occidental Park / Occidental Ave S &amp; S Washing...</td>\n",
       "      <td>CBD-06</td>\n",
       "      <td>PS-04</td>\n",
       "      <td>Annual Member</td>\n",
       "      <td>Male</td>\n",
       "      <td>1960.0</td>\n",
       "      <td>10/13/2014</td>\n",
       "      <td>Monday</td>\n",
       "    </tr>\n",
       "    <tr>\n",
       "      <th>1</th>\n",
       "      <td>432</td>\n",
       "      <td>10/13/2014 10:32</td>\n",
       "      <td>10/13/2014 10:48</td>\n",
       "      <td>SEA00195</td>\n",
       "      <td>926.375</td>\n",
       "      <td>2nd Ave &amp; Spring St</td>\n",
       "      <td>Occidental Park / Occidental Ave S &amp; S Washing...</td>\n",
       "      <td>CBD-06</td>\n",
       "      <td>PS-04</td>\n",
       "      <td>Annual Member</td>\n",
       "      <td>Male</td>\n",
       "      <td>1970.0</td>\n",
       "      <td>10/13/2014</td>\n",
       "      <td>Monday</td>\n",
       "    </tr>\n",
       "    <tr>\n",
       "      <th>2</th>\n",
       "      <td>433</td>\n",
       "      <td>10/13/2014 10:33</td>\n",
       "      <td>10/13/2014 10:48</td>\n",
       "      <td>SEA00486</td>\n",
       "      <td>883.831</td>\n",
       "      <td>2nd Ave &amp; Spring St</td>\n",
       "      <td>Occidental Park / Occidental Ave S &amp; S Washing...</td>\n",
       "      <td>CBD-06</td>\n",
       "      <td>PS-04</td>\n",
       "      <td>Annual Member</td>\n",
       "      <td>Female</td>\n",
       "      <td>1988.0</td>\n",
       "      <td>10/13/2014</td>\n",
       "      <td>Monday</td>\n",
       "    </tr>\n",
       "  </tbody>\n",
       "</table>\n",
       "</div>"
      ],
      "text/plain": [
       "   trip_id         starttime          stoptime    bikeid  tripduration  \\\n",
       "0      431  10/13/2014 10:31  10/13/2014 10:48  SEA00298       985.935   \n",
       "1      432  10/13/2014 10:32  10/13/2014 10:48  SEA00195       926.375   \n",
       "2      433  10/13/2014 10:33  10/13/2014 10:48  SEA00486       883.831   \n",
       "\n",
       "     from_station_name                                    to_station_name  \\\n",
       "0  2nd Ave & Spring St  Occidental Park / Occidental Ave S & S Washing...   \n",
       "1  2nd Ave & Spring St  Occidental Park / Occidental Ave S & S Washing...   \n",
       "2  2nd Ave & Spring St  Occidental Park / Occidental Ave S & S Washing...   \n",
       "\n",
       "  from_station_id to_station_id       usertype  gender  birthyear        Date  \\\n",
       "0          CBD-06         PS-04  Annual Member    Male     1960.0  10/13/2014   \n",
       "1          CBD-06         PS-04  Annual Member    Male     1970.0  10/13/2014   \n",
       "2          CBD-06         PS-04  Annual Member  Female     1988.0  10/13/2014   \n",
       "\n",
       "  DayOfWeek  \n",
       "0    Monday  \n",
       "1    Monday  \n",
       "2    Monday  "
      ]
     },
     "execution_count": 85,
     "metadata": {},
     "output_type": "execute_result"
    }
   ],
   "source": [
    "df.head(3)"
   ]
  },
  {
   "cell_type": "code",
   "execution_count": 86,
   "metadata": {
    "collapsed": false
   },
   "outputs": [],
   "source": [
    "from_counts_byDayOfWeek = df.groupby(['DayOfWeek', 'from_station_id']).size()"
   ]
  },
  {
   "cell_type": "code",
   "execution_count": 87,
   "metadata": {
    "collapsed": false
   },
   "outputs": [],
   "source": [
    "to_counts_byDayOfWeek = df.groupby(['DayOfWeek', 'to_station_id']).size()"
   ]
  },
  {
   "cell_type": "code",
   "execution_count": 153,
   "metadata": {
    "collapsed": false
   },
   "outputs": [
    {
     "data": {
      "text/plain": [
       "DayOfWeek\n",
       "Friday       54\n",
       "Monday       54\n",
       "Saturday     54\n",
       "Sunday       54\n",
       "Thursday     54\n",
       "Tuesday      55\n",
       "Wednesday    54\n",
       "Name: from_station_id, dtype: int64"
      ]
     },
     "execution_count": 153,
     "metadata": {},
     "output_type": "execute_result"
    }
   ],
   "source": [
    "days = df.groupby(['DayOfWeek']).from_station_id.nunique()\n",
    "days"
   ]
  },
  {
   "cell_type": "code",
   "execution_count": 152,
   "metadata": {
    "collapsed": false
   },
   "outputs": [],
   "source": [
    "from_df = from_counts_byDayOfWeek.reset_index()"
   ]
  },
  {
   "cell_type": "code",
   "execution_count": 91,
   "metadata": {
    "collapsed": false
   },
   "outputs": [],
   "source": [
    "to_df = to_counts_byDayOfWeek.reset_index()"
   ]
  },
  {
   "cell_type": "code",
   "execution_count": 92,
   "metadata": {
    "collapsed": false
   },
   "outputs": [],
   "source": [
    "from_df.columns = ['DayOfWeek', 'from_station_id', 'from_bikes_count']"
   ]
  },
  {
   "cell_type": "code",
   "execution_count": 93,
   "metadata": {
    "collapsed": false
   },
   "outputs": [],
   "source": [
    "to_df.columns = ['DayOfWeek', 'to_station_id', 'to_bikes_count']"
   ]
  },
  {
   "cell_type": "code",
   "execution_count": 120,
   "metadata": {
    "collapsed": false
   },
   "outputs": [],
   "source": [
    "bikes_count_df = pd.merge(from_df, to_df, left_on=['from_station_id', 'DayOfWeek'], right_on=['to_station_id', 'DayOfWeek'], how='outer')"
   ]
  },
  {
   "cell_type": "code",
   "execution_count": 121,
   "metadata": {
    "collapsed": false
   },
   "outputs": [],
   "source": [
    "bikes_count_df['from_bikes_count'].fillna(0, inplace=True)"
   ]
  },
  {
   "cell_type": "code",
   "execution_count": 122,
   "metadata": {
    "collapsed": true
   },
   "outputs": [],
   "source": [
    "bikes_count_df['to_bikes_count'].fillna(0, inplace=True)"
   ]
  },
  {
   "cell_type": "code",
   "execution_count": 123,
   "metadata": {
    "collapsed": false
   },
   "outputs": [],
   "source": [
    "bikes_count_df['from_station_id'] = np.where(bikes_count_df['from_station_id'].isnull(), bikes_count_df['to_station_id'], bikes_count_df['from_station_id'])"
   ]
  },
  {
   "cell_type": "code",
   "execution_count": 124,
   "metadata": {
    "collapsed": true
   },
   "outputs": [],
   "source": [
    "bikes_count_df['to_station_id'] = np.where(bikes_count_df['to_station_id'].isnull(), bikes_count_df['from_station_id'], bikes_count_df['to_station_id'])"
   ]
  },
  {
   "cell_type": "code",
   "execution_count": 127,
   "metadata": {
    "collapsed": true
   },
   "outputs": [],
   "source": [
    "bikes_count_df['difference'] = bikes_count_df.from_bikes_count - bikes_count_df.to_bikes_count"
   ]
  },
  {
   "cell_type": "code",
   "execution_count": 135,
   "metadata": {
    "collapsed": false
   },
   "outputs": [],
   "source": [
    "bikes_count_df['average_count'] = bikes_count_df.difference/54"
   ]
  },
  {
   "cell_type": "code",
   "execution_count": 132,
   "metadata": {
    "collapsed": false
   },
   "outputs": [
    {
     "data": {
      "text/html": [
       "<div>\n",
       "<table border=\"1\" class=\"dataframe\">\n",
       "  <thead>\n",
       "    <tr style=\"text-align: right;\">\n",
       "      <th></th>\n",
       "      <th>DayOfWeek</th>\n",
       "      <th>from_station_id</th>\n",
       "      <th>from_bikes_count</th>\n",
       "      <th>to_station_id</th>\n",
       "      <th>to_bikes_count</th>\n",
       "      <th>difference</th>\n",
       "      <th>average_count</th>\n",
       "    </tr>\n",
       "  </thead>\n",
       "  <tbody>\n",
       "    <tr>\n",
       "      <th>0</th>\n",
       "      <td>Friday</td>\n",
       "      <td>BT-01</td>\n",
       "      <td>921.0</td>\n",
       "      <td>BT-01</td>\n",
       "      <td>850</td>\n",
       "      <td>71.0</td>\n",
       "      <td>1.314815</td>\n",
       "    </tr>\n",
       "    <tr>\n",
       "      <th>1</th>\n",
       "      <td>Friday</td>\n",
       "      <td>BT-03</td>\n",
       "      <td>657.0</td>\n",
       "      <td>BT-03</td>\n",
       "      <td>470</td>\n",
       "      <td>187.0</td>\n",
       "      <td>3.462963</td>\n",
       "    </tr>\n",
       "    <tr>\n",
       "      <th>2</th>\n",
       "      <td>Friday</td>\n",
       "      <td>BT-04</td>\n",
       "      <td>343.0</td>\n",
       "      <td>BT-04</td>\n",
       "      <td>280</td>\n",
       "      <td>63.0</td>\n",
       "      <td>1.166667</td>\n",
       "    </tr>\n",
       "    <tr>\n",
       "      <th>3</th>\n",
       "      <td>Friday</td>\n",
       "      <td>BT-05</td>\n",
       "      <td>516.0</td>\n",
       "      <td>BT-05</td>\n",
       "      <td>502</td>\n",
       "      <td>14.0</td>\n",
       "      <td>0.259259</td>\n",
       "    </tr>\n",
       "    <tr>\n",
       "      <th>4</th>\n",
       "      <td>Friday</td>\n",
       "      <td>CBD-03</td>\n",
       "      <td>465.0</td>\n",
       "      <td>CBD-03</td>\n",
       "      <td>639</td>\n",
       "      <td>-174.0</td>\n",
       "      <td>-3.222222</td>\n",
       "    </tr>\n",
       "  </tbody>\n",
       "</table>\n",
       "</div>"
      ],
      "text/plain": [
       "  DayOfWeek from_station_id  from_bikes_count to_station_id  to_bikes_count  \\\n",
       "0    Friday           BT-01             921.0         BT-01             850   \n",
       "1    Friday           BT-03             657.0         BT-03             470   \n",
       "2    Friday           BT-04             343.0         BT-04             280   \n",
       "3    Friday           BT-05             516.0         BT-05             502   \n",
       "4    Friday          CBD-03             465.0        CBD-03             639   \n",
       "\n",
       "   difference  average_count  \n",
       "0        71.0       1.314815  \n",
       "1       187.0       3.462963  \n",
       "2        63.0       1.166667  \n",
       "3        14.0       0.259259  \n",
       "4      -174.0      -3.222222  "
      ]
     },
     "execution_count": 132,
     "metadata": {},
     "output_type": "execute_result"
    }
   ],
   "source": [
    "bikes_count_df.head()"
   ]
  },
  {
   "cell_type": "code",
   "execution_count": 133,
   "metadata": {
    "collapsed": false
   },
   "outputs": [
    {
     "data": {
      "text/html": [
       "<div>\n",
       "<table border=\"1\" class=\"dataframe\">\n",
       "  <thead>\n",
       "    <tr style=\"text-align: right;\">\n",
       "      <th>DayOfWeek</th>\n",
       "      <th>Friday</th>\n",
       "      <th>Monday</th>\n",
       "      <th>Saturday</th>\n",
       "      <th>Sunday</th>\n",
       "      <th>Thursday</th>\n",
       "      <th>Tuesday</th>\n",
       "      <th>Wednesday</th>\n",
       "    </tr>\n",
       "    <tr>\n",
       "      <th>from_station_id</th>\n",
       "      <th></th>\n",
       "      <th></th>\n",
       "      <th></th>\n",
       "      <th></th>\n",
       "      <th></th>\n",
       "      <th></th>\n",
       "      <th></th>\n",
       "    </tr>\n",
       "  </thead>\n",
       "  <tbody>\n",
       "    <tr>\n",
       "      <th>BT-01</th>\n",
       "      <td>1.314815</td>\n",
       "      <td>0.333333</td>\n",
       "      <td>0.000000</td>\n",
       "      <td>-0.870370</td>\n",
       "      <td>0.166667</td>\n",
       "      <td>0.945455</td>\n",
       "      <td>-0.333333</td>\n",
       "    </tr>\n",
       "    <tr>\n",
       "      <th>BT-03</th>\n",
       "      <td>3.462963</td>\n",
       "      <td>0.814815</td>\n",
       "      <td>3.092593</td>\n",
       "      <td>1.518519</td>\n",
       "      <td>2.907407</td>\n",
       "      <td>1.436364</td>\n",
       "      <td>1.796296</td>\n",
       "    </tr>\n",
       "    <tr>\n",
       "      <th>BT-04</th>\n",
       "      <td>1.166667</td>\n",
       "      <td>1.092593</td>\n",
       "      <td>0.351852</td>\n",
       "      <td>0.703704</td>\n",
       "      <td>1.555556</td>\n",
       "      <td>1.072727</td>\n",
       "      <td>0.796296</td>\n",
       "    </tr>\n",
       "    <tr>\n",
       "      <th>BT-05</th>\n",
       "      <td>0.259259</td>\n",
       "      <td>-0.203704</td>\n",
       "      <td>-0.018519</td>\n",
       "      <td>-0.092593</td>\n",
       "      <td>-1.018519</td>\n",
       "      <td>-0.127273</td>\n",
       "      <td>-0.481481</td>\n",
       "    </tr>\n",
       "    <tr>\n",
       "      <th>CBD-03</th>\n",
       "      <td>-3.222222</td>\n",
       "      <td>-2.814815</td>\n",
       "      <td>-2.537037</td>\n",
       "      <td>-1.277778</td>\n",
       "      <td>-2.407407</td>\n",
       "      <td>-2.636364</td>\n",
       "      <td>-3.296296</td>\n",
       "    </tr>\n",
       "  </tbody>\n",
       "</table>\n",
       "</div>"
      ],
      "text/plain": [
       "DayOfWeek          Friday    Monday  Saturday    Sunday  Thursday   Tuesday  \\\n",
       "from_station_id                                                               \n",
       "BT-01            1.314815  0.333333  0.000000 -0.870370  0.166667  0.945455   \n",
       "BT-03            3.462963  0.814815  3.092593  1.518519  2.907407  1.436364   \n",
       "BT-04            1.166667  1.092593  0.351852  0.703704  1.555556  1.072727   \n",
       "BT-05            0.259259 -0.203704 -0.018519 -0.092593 -1.018519 -0.127273   \n",
       "CBD-03          -3.222222 -2.814815 -2.537037 -1.277778 -2.407407 -2.636364   \n",
       "\n",
       "DayOfWeek        Wednesday  \n",
       "from_station_id             \n",
       "BT-01            -0.333333  \n",
       "BT-03             1.796296  \n",
       "BT-04             0.796296  \n",
       "BT-05            -0.481481  \n",
       "CBD-03           -3.296296  "
      ]
     },
     "execution_count": 133,
     "metadata": {},
     "output_type": "execute_result"
    }
   ],
   "source": [
    "days_df = bikes_count_df.pivot(index='from_station_id', columns='DayOfWeek', values='difference')\n",
    "days_df.fillna(0, inplace=True)\n",
    "d = days_df/days\n",
    "d.head()"
   ]
  },
  {
   "cell_type": "code",
   "execution_count": 146,
   "metadata": {
    "collapsed": true
   },
   "outputs": [],
   "source": [
    "def plot_bar1(df, column, opts):\n",
    "    n_groups = len(df.index)\n",
    "    index = np.arange(n_groups)\n",
    "    rects1 = plt.bar(index, df[column])\n",
    "    if opts.has_key('xlabel'):\n",
    "      plt.xlabel(opts['xlabel'])\n",
    "    else:\n",
    "        pass\n",
    "    if opts.has_key('ylabel'):\n",
    "      plt.ylabel(opts['ylabel'])\n",
    "    else:\n",
    "        pass\n",
    "    if opts.has_key('xticks') and opts['xticks']:\n",
    "      plt.xticks(index, df.index)  \n",
    "      _, labels = plt.xticks() \n",
    "      plt.setp(labels, rotation=90)\n",
    "    else:\n",
    "      labels = ['' for x in df.index]\n",
    "      plt.xticks(index, labels)   \n",
    "    if opts.has_key('ylim'):\n",
    "      plt.ylim(opts['ylim'])\n",
    "    else:\n",
    "        pass\n",
    "    plt.title(column)"
   ]
  },
  {
   "cell_type": "code",
   "execution_count": 147,
   "metadata": {
    "collapsed": true
   },
   "outputs": [],
   "source": [
    "def plot_barN(df, columns, opts):\n",
    "    \"\"\"\n",
    "    Does a bar plot for a single column.\n",
    "    :param pd.DataFrame df:\n",
    "    :param list-of-str columns: names of the column to plot\n",
    "    :param dict opts: key is plot attribute\n",
    "    \"\"\"\n",
    "    num_columns = len(columns)\n",
    "    local_opts = dict(opts)\n",
    "    idx = 0\n",
    "    for column in columns:\n",
    "        idx += 1\n",
    "        local_opts['xticks'] = False\n",
    "        local_opts['xlabel'] = ''\n",
    "        if idx == num_columns:\n",
    "          local_opts['xticks'] = True\n",
    "          local_opts['xlabel'] = opts['xlabel']\n",
    "        plt.subplot(num_columns, 1, idx)\n",
    "        plot_bar1(df, column, local_opts)"
   ]
  },
  {
   "cell_type": "code",
   "execution_count": 148,
   "metadata": {
    "collapsed": false
   },
   "outputs": [
    {
     "data": {
      "image/png": "[encoded data removed]",
      "text/plain": [
       "<matplotlib.figure.Figure at 0x114df3650>"
      ]
     },
     "metadata": {},
     "output_type": "display_data"
    }
   ],
   "source": [
    "fig = plt.figure(figsize=(12, 20))\n",
    "opts = {'xlabel': 'Stations', 'ylabel': 'Average Counts', 'ylim' : (-8,12)}\n",
    "plot_barN(d, ['Monday', 'Tuesday', 'Wednesday', 'Thursday', 'Friday', 'Saturday', 'Sunday'], opts)"
   ]
  },
  {
   "cell_type": "code",
   "execution_count": 149,
   "metadata": {
    "collapsed": true
   },
   "outputs": [],
   "source": [
    "def plot_bar1(df, column, opts):\n",
    "    n_groups = len(df.index)\n",
    "    index = np.arange(n_groups)\n",
    "    rects1 = plt.bar(index, df[column])\n",
    "    if opts.has_key('xlabel'):\n",
    "      plt.xlabel(opts['xlabel'])\n",
    "    else:\n",
    "        pass\n",
    "    if opts.has_key('ylabel'):\n",
    "      plt.ylabel(opts['ylabel'])\n",
    "    else:\n",
    "        pass\n",
    "    if opts.has_key('xticks') and opts['xticks']:\n",
    "      plt.xticks(index, df.index)  \n",
    "      _, labels = plt.xticks() \n",
    "      plt.setp(labels, rotation=90)\n",
    "    else:\n",
    "      labels = ['' for x in df.index]\n",
    "      plt.xticks(index, labels)   \n",
    "    if opts.has_key('ylim'):\n",
    "      plt.ylim(opts['ylim'])\n",
    "    else:\n",
    "        pass\n",
    "    plt.title(column)"
   ]
  },
  {
   "cell_type": "code",
   "execution_count": 150,
   "metadata": {
    "collapsed": false
   },
   "outputs": [],
   "source": [
    "def plot_barN(df, columns, opts):\n",
    "    \"\"\"\n",
    "    Does a bar plot for a single column.\n",
    "    :param pd.DataFrame df:\n",
    "    :param list-of-str columns: names of the column to plot\n",
    "    :param dict opts: key is plot attribute\n",
    "    \"\"\"\n",
    "    num_columns = len(columns)\n",
    "    local_opts = dict(opts)\n",
    "    idx = 0\n",
    "    for column in columns:\n",
    "        idx += 1\n",
    "        local_opts['xticks'] = False\n",
    "        local_opts['xlabel'] = ''\n",
    "        local_opts['yticks'] = False\n",
    "        local_opts['ylabel'] = ''\n",
    "        if idx == num_columns:\n",
    "          local_opts['xticks'] = True\n",
    "          local_opts['xlabel'] = opts['xlabel']\n",
    "        if idx % 2 != 0:\n",
    "          local_opts['yticks'] = True\n",
    "          local_opts['ylabel'] = opts['ylabel']\n",
    "        plt.subplot(num_columns, 2, idx)\n",
    "        plot_bar1(df, column, local_opts)"
   ]
  },
  {
   "cell_type": "code",
   "execution_count": 151,
   "metadata": {
    "collapsed": false
   },
   "outputs": [
    {
     "data": {
      "image/png": "[encoded data removed]",
      "text/plain": [
       "<matplotlib.figure.Figure at 0x114c74a90>"
      ]
     },
     "metadata": {},
     "output_type": "display_data"
    }
   ],
   "source": [
    "fig = plt.figure(figsize=(15, 20))  # Controls global properties of the bar plot\n",
    "opts = {'xlabel': 'Stations', 'ylabel': 'Average Counts', 'ylim' : (-8,12)}\n",
    "plot_barN(d, ['Monday', 'Tuesday', 'Wednesday', 'Thursday', 'Friday', 'Saturday', 'Sunday'], opts)"
   ]
  },
  {
   "cell_type": "code",
   "execution_count": null,
   "metadata": {
    "collapsed": true
   },
   "outputs": [],
   "source": []
  }
 ],
 "metadata": {
  "kernelspec": {
   "display_name": "Python 2",
   "language": "python",
   "name": "python2"
  },
  "language_info": {
   "codemirror_mode": {
    "name": "ipython",
    "version": 2
   },
   "file_extension": ".py",
   "mimetype": "text/x-python",
   "name": "python",
   "nbconvert_exporter": "python",
   "pygments_lexer": "ipython2",
   "version": "2.7.13"
  }
 },
 "nbformat": 4,
 "nbformat_minor": 2
}
